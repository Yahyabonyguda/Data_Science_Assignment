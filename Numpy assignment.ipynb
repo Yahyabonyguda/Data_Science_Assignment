{
 "cells": [
  {
   "cell_type": "code",
   "execution_count": null,
   "metadata": {},
   "outputs": [],
   "source": [
    "import numpy as np\n",
    "\n",
    "A = np.random.rand(5)\n",
    "B = np.random.rand(4)\n",
    "\n",
    "def einsum_functions(A, B):\n",
    "    \"\"\"Computes inner, outer, sum, and product of vectors using einsum.\n",
    "\n",
    "    Args:\n",
    "        A: First vector.\n",
    "        B: Second vector.\n",
    "\n",
    "    Returns:\n",
    "        A dictionary containing the inner product, outer product, sum, and product.\n",
    "    \"\"\"\n",
    "\n",
    "    results = {}\n",
    "    results['inner'] = np.einsum('i,i->', A, B)\n",
    "    results['outer'] = np.einsum('i,j->ij', A, B)\n",
    "    results['sum'] = np.einsum('i->', A) + np.einsum('i->', B)\n",
    "    results['product'] = np.einsum('i,j->ij', A, B)\n",
    "    return results\n",
    "\n",
    "einsum_results = einsum_functions(A, B)\n",
    "print(einsum_results)  # Example output: {'inner': 0.35..., 'outer': [[...], [...]], 'sum': 1.4..., 'product': [[...], [...]]}\n"
   ]
  },
  {
   "cell_type": "markdown",
   "metadata": {},
   "source": [
    "Question 98"
   ]
  },
  {
   "cell_type": "code",
   "execution_count": 9,
   "metadata": {},
   "outputs": [
    {
     "name": "stdout",
     "output_type": "stream",
     "text": [
      "[[1.         2.        ]\n",
      " [1.66666667 2.66666667]\n",
      " [2.33333333 3.33333333]\n",
      " [3.         4.        ]\n",
      " [3.66666667 4.66666667]\n",
      " [4.33333333 5.33333333]\n",
      " [5.         6.        ]\n",
      " [5.66666667 6.66666667]\n",
      " [6.33333333 7.33333333]\n",
      " [7.         8.        ]]\n"
     ]
    }
   ],
   "source": [
    "import numpy as np\n",
    "\n",
    "def equidistant_path_sampling(X, Y, num_samples):\n",
    "    \"\"\"Samples points from a path defined by two vectors with equal distances.\n",
    "\n",
    "    Args:\n",
    "        X: X-coordinates of the path.\n",
    "        Y: Y-coordinates of the path.\n",
    "        num_samples: Number of samples to generate.\n",
    "\n",
    "    Returns:\n",
    "        A NumPy array of sampled points (x, y).\n",
    "    \"\"\"\n",
    "\n",
    "    total_distance = np.linalg.norm(np.diff(np.vstack((X, Y)).T, axis=1))\n",
    "    step_size = total_distance / (num_samples - 1)\n",
    "\n",
    "    sample_ratios = np.linspace(0, 1, num_samples)\n",
    "    sampled_x = X[0] + sample_ratios * (X[-1] - X[0])\n",
    "    sampled_y = Y[0] + sample_ratios * (Y[-1] - Y[0])\n",
    "\n",
    "    return np.vstack((sampled_x, sampled_y)).T\n",
    "\n",
    "# Example usage\n",
    "X = np.array([1, 3, 5, 7])\n",
    "Y = np.array([2, 4, 6, 8])\n",
    "sampled_points = equidistant_path_sampling(X, Y, 10)\n",
    "print(sampled_points) \n"
   ]
  },
  {
   "cell_type": "markdown",
   "metadata": {},
   "source": [
    "Question 99"
   ]
  },
  {
   "cell_type": "code",
   "execution_count": 1,
   "metadata": {},
   "outputs": [],
   "source": [
    "import numpy as np"
   ]
  },
  {
   "cell_type": "code",
   "execution_count": 5,
   "metadata": {},
   "outputs": [
    {
     "name": "stdout",
     "output_type": "stream",
     "text": [
      "[[1 2 3]]\n"
     ]
    }
   ],
   "source": [
    "import numpy as np\n",
    "\n",
    "def multinomial_draws(X, n):\n",
    "  \"\"\"Selects rows from X that represent valid draws from a multinomial distribution.\n",
    "\n",
    "  Args:\n",
    "      X: A 2D NumPy array of non-negative integers.\n",
    "      n: The number of degrees of freedom in the multinomial distribution.\n",
    "\n",
    "  Returns:\n",
    "      A NumPy array containing the valid rows from X.\n",
    "  \"\"\"\n",
    "  valid_rows = []\n",
    "  for row in X:\n",
    "    if np.all(np.array(row) >= 0) and np.sum(row) == n:\n",
    "      valid_rows.append(row)\n",
    "  return np.array(valid_rows)\n",
    "\n",
    "# Example usage\n",
    "X = np.array([[1, 2, 3], [4, 5, 6], [1, 2, 4], [7, 8, 9], [4, 5, 7]])\n",
    "n = 6\n",
    "valid_draws = multinomial_draws(X, n)\n",
    "print(valid_draws)  \n"
   ]
  },
  {
   "cell_type": "markdown",
   "metadata": {},
   "source": [
    "Question 100"
   ]
  },
  {
   "cell_type": "code",
   "execution_count": 6,
   "metadata": {},
   "outputs": [
    {
     "name": "stdout",
     "output_type": "stream",
     "text": [
      "95% confidence interval: [2.00, 4.00]\n"
     ]
    }
   ],
   "source": [
    "import numpy as np\n",
    "\n",
    "def bootstrap_ci(X, n_samples=1000, alpha=0.05):\n",
    "  \"\"\"Computes bootstrapped 95% confidence intervals for the mean of a 1D array.\n",
    "\n",
    "  Args:\n",
    "      X: A 1D NumPy array.\n",
    "      n_samples: The number of bootstrap samples to draw.\n",
    "      alpha: The significance level (default: 0.05).\n",
    "\n",
    "  Returns:\n",
    "      A tuple containing the lower and upper bounds of the confidence interval.\n",
    "  \"\"\"\n",
    "  sample_means = []\n",
    "  for _ in range(n_samples):\n",
    "    resampled_x = np.random.choice(X, size=len(X), replace=True)\n",
    "    sample_means.append(np.mean(resampled_x))\n",
    "  sorted_means = np.sort(sample_means)\n",
    "  lower_bound = sorted_means[int(alpha * n_samples)]\n",
    "  upper_bound = sorted_means[int((1 - alpha) * n_samples)]\n",
    "  return lower_bound, upper_bound\n",
    "\n",
    "# Example usage\n",
    "X = np.array([1, 2, 3, 4, 5])\n",
    "lower_bound, upper_bound = bootstrap_ci(X)\n",
    "print(f\"95% confidence interval: [{lower_bound:.2f}, {upper_bound:.2f}]\")\n"
   ]
  }
 ],
 "metadata": {
  "kernelspec": {
   "display_name": "Python 3",
   "language": "python",
   "name": "python3"
  },
  "language_info": {
   "codemirror_mode": {
    "name": "ipython",
    "version": 3
   },
   "file_extension": ".py",
   "mimetype": "text/x-python",
   "name": "python",
   "nbconvert_exporter": "python",
   "pygments_lexer": "ipython3",
   "version": "3.12.0"
  }
 },
 "nbformat": 4,
 "nbformat_minor": 2
}
