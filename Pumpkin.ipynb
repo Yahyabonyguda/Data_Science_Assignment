{
 "cells": [
  {
   "cell_type": "code",
   "execution_count": 6,
   "metadata": {},
   "outputs": [
    {
     "data": {
      "text/html": [
       "<div>\n",
       "<style scoped>\n",
       "    .dataframe tbody tr th:only-of-type {\n",
       "        vertical-align: middle;\n",
       "    }\n",
       "\n",
       "    .dataframe tbody tr th {\n",
       "        vertical-align: top;\n",
       "    }\n",
       "\n",
       "    .dataframe thead th {\n",
       "        text-align: right;\n",
       "    }\n",
       "</style>\n",
       "<table border=\"1\" class=\"dataframe\">\n",
       "  <thead>\n",
       "    <tr style=\"text-align: right;\">\n",
       "      <th></th>\n",
       "      <th>City Name</th>\n",
       "      <th>Type</th>\n",
       "      <th>Package</th>\n",
       "      <th>Variety</th>\n",
       "      <th>Sub Variety</th>\n",
       "      <th>Grade</th>\n",
       "      <th>Date</th>\n",
       "      <th>Low Price</th>\n",
       "      <th>High Price</th>\n",
       "      <th>Mostly Low</th>\n",
       "      <th>...</th>\n",
       "      <th>Unit of Sale</th>\n",
       "      <th>Quality</th>\n",
       "      <th>Condition</th>\n",
       "      <th>Appearance</th>\n",
       "      <th>Storage</th>\n",
       "      <th>Crop</th>\n",
       "      <th>Repack</th>\n",
       "      <th>Trans Mode</th>\n",
       "      <th>Unnamed: 24</th>\n",
       "      <th>Unnamed: 25</th>\n",
       "    </tr>\n",
       "  </thead>\n",
       "  <tbody>\n",
       "    <tr>\n",
       "      <th>0</th>\n",
       "      <td>BALTIMORE</td>\n",
       "      <td>NaN</td>\n",
       "      <td>24 inch bins</td>\n",
       "      <td>NaN</td>\n",
       "      <td>NaN</td>\n",
       "      <td>NaN</td>\n",
       "      <td>4/29/17</td>\n",
       "      <td>270.0</td>\n",
       "      <td>280.0</td>\n",
       "      <td>270.0</td>\n",
       "      <td>...</td>\n",
       "      <td>NaN</td>\n",
       "      <td>NaN</td>\n",
       "      <td>NaN</td>\n",
       "      <td>NaN</td>\n",
       "      <td>NaN</td>\n",
       "      <td>NaN</td>\n",
       "      <td>E</td>\n",
       "      <td>NaN</td>\n",
       "      <td>NaN</td>\n",
       "      <td>NaN</td>\n",
       "    </tr>\n",
       "    <tr>\n",
       "      <th>1</th>\n",
       "      <td>BALTIMORE</td>\n",
       "      <td>NaN</td>\n",
       "      <td>24 inch bins</td>\n",
       "      <td>NaN</td>\n",
       "      <td>NaN</td>\n",
       "      <td>NaN</td>\n",
       "      <td>5/6/17</td>\n",
       "      <td>270.0</td>\n",
       "      <td>280.0</td>\n",
       "      <td>270.0</td>\n",
       "      <td>...</td>\n",
       "      <td>NaN</td>\n",
       "      <td>NaN</td>\n",
       "      <td>NaN</td>\n",
       "      <td>NaN</td>\n",
       "      <td>NaN</td>\n",
       "      <td>NaN</td>\n",
       "      <td>E</td>\n",
       "      <td>NaN</td>\n",
       "      <td>NaN</td>\n",
       "      <td>NaN</td>\n",
       "    </tr>\n",
       "    <tr>\n",
       "      <th>2</th>\n",
       "      <td>BALTIMORE</td>\n",
       "      <td>NaN</td>\n",
       "      <td>24 inch bins</td>\n",
       "      <td>HOWDEN TYPE</td>\n",
       "      <td>NaN</td>\n",
       "      <td>NaN</td>\n",
       "      <td>9/24/16</td>\n",
       "      <td>160.0</td>\n",
       "      <td>160.0</td>\n",
       "      <td>160.0</td>\n",
       "      <td>...</td>\n",
       "      <td>NaN</td>\n",
       "      <td>NaN</td>\n",
       "      <td>NaN</td>\n",
       "      <td>NaN</td>\n",
       "      <td>NaN</td>\n",
       "      <td>NaN</td>\n",
       "      <td>N</td>\n",
       "      <td>NaN</td>\n",
       "      <td>NaN</td>\n",
       "      <td>NaN</td>\n",
       "    </tr>\n",
       "    <tr>\n",
       "      <th>3</th>\n",
       "      <td>BALTIMORE</td>\n",
       "      <td>NaN</td>\n",
       "      <td>24 inch bins</td>\n",
       "      <td>HOWDEN TYPE</td>\n",
       "      <td>NaN</td>\n",
       "      <td>NaN</td>\n",
       "      <td>9/24/16</td>\n",
       "      <td>160.0</td>\n",
       "      <td>160.0</td>\n",
       "      <td>160.0</td>\n",
       "      <td>...</td>\n",
       "      <td>NaN</td>\n",
       "      <td>NaN</td>\n",
       "      <td>NaN</td>\n",
       "      <td>NaN</td>\n",
       "      <td>NaN</td>\n",
       "      <td>NaN</td>\n",
       "      <td>N</td>\n",
       "      <td>NaN</td>\n",
       "      <td>NaN</td>\n",
       "      <td>NaN</td>\n",
       "    </tr>\n",
       "    <tr>\n",
       "      <th>4</th>\n",
       "      <td>BALTIMORE</td>\n",
       "      <td>NaN</td>\n",
       "      <td>24 inch bins</td>\n",
       "      <td>HOWDEN TYPE</td>\n",
       "      <td>NaN</td>\n",
       "      <td>NaN</td>\n",
       "      <td>11/5/16</td>\n",
       "      <td>90.0</td>\n",
       "      <td>100.0</td>\n",
       "      <td>90.0</td>\n",
       "      <td>...</td>\n",
       "      <td>NaN</td>\n",
       "      <td>NaN</td>\n",
       "      <td>NaN</td>\n",
       "      <td>NaN</td>\n",
       "      <td>NaN</td>\n",
       "      <td>NaN</td>\n",
       "      <td>N</td>\n",
       "      <td>NaN</td>\n",
       "      <td>NaN</td>\n",
       "      <td>NaN</td>\n",
       "    </tr>\n",
       "  </tbody>\n",
       "</table>\n",
       "<p>5 rows × 26 columns</p>\n",
       "</div>"
      ],
      "text/plain": [
       "   City Name Type       Package      Variety Sub Variety  Grade     Date  \\\n",
       "0  BALTIMORE  NaN  24 inch bins          NaN         NaN    NaN  4/29/17   \n",
       "1  BALTIMORE  NaN  24 inch bins          NaN         NaN    NaN   5/6/17   \n",
       "2  BALTIMORE  NaN  24 inch bins  HOWDEN TYPE         NaN    NaN  9/24/16   \n",
       "3  BALTIMORE  NaN  24 inch bins  HOWDEN TYPE         NaN    NaN  9/24/16   \n",
       "4  BALTIMORE  NaN  24 inch bins  HOWDEN TYPE         NaN    NaN  11/5/16   \n",
       "\n",
       "   Low Price  High Price  Mostly Low  ...  Unit of Sale Quality Condition  \\\n",
       "0      270.0       280.0       270.0  ...           NaN     NaN       NaN   \n",
       "1      270.0       280.0       270.0  ...           NaN     NaN       NaN   \n",
       "2      160.0       160.0       160.0  ...           NaN     NaN       NaN   \n",
       "3      160.0       160.0       160.0  ...           NaN     NaN       NaN   \n",
       "4       90.0       100.0        90.0  ...           NaN     NaN       NaN   \n",
       "\n",
       "  Appearance Storage  Crop Repack  Trans Mode  Unnamed: 24  Unnamed: 25  \n",
       "0        NaN     NaN   NaN      E         NaN          NaN          NaN  \n",
       "1        NaN     NaN   NaN      E         NaN          NaN          NaN  \n",
       "2        NaN     NaN   NaN      N         NaN          NaN          NaN  \n",
       "3        NaN     NaN   NaN      N         NaN          NaN          NaN  \n",
       "4        NaN     NaN   NaN      N         NaN          NaN          NaN  \n",
       "\n",
       "[5 rows x 26 columns]"
      ]
     },
     "execution_count": 6,
     "metadata": {},
     "output_type": "execute_result"
    }
   ],
   "source": [
    "import pandas as pd\n",
    "# Replace 'absolute_path_to_file' with the actual absolute path of the file\n",
    "pumpkins = pd.read_csv('C:/Users/YAHYA/Documents/US-pumpkins.csv')\n",
    "pumpkins.head()\n"
   ]
  },
  {
   "cell_type": "code",
   "execution_count": 8,
   "metadata": {},
   "outputs": [
    {
     "data": {
      "text/plain": [
       "City Name             0\n",
       "Type               1712\n",
       "Package               0\n",
       "Variety               5\n",
       "Sub Variety        1461\n",
       "Grade              1757\n",
       "Date                  0\n",
       "Low Price             0\n",
       "High Price            0\n",
       "Mostly Low          103\n",
       "Mostly High         103\n",
       "Origin                3\n",
       "Origin District    1626\n",
       "Item Size           279\n",
       "Color               616\n",
       "Environment        1757\n",
       "Unit of Sale       1595\n",
       "Quality            1757\n",
       "Condition          1757\n",
       "Appearance         1757\n",
       "Storage            1757\n",
       "Crop               1757\n",
       "Repack                0\n",
       "Trans Mode         1757\n",
       "Unnamed: 24        1757\n",
       "Unnamed: 25        1654\n",
       "dtype: int64"
      ]
     },
     "execution_count": 8,
     "metadata": {},
     "output_type": "execute_result"
    }
   ],
   "source": [
    "pumpkins.isnull().sum()"
   ]
  },
  {
   "cell_type": "code",
   "execution_count": 10,
   "metadata": {},
   "outputs": [],
   "source": [
    "new_columns = ['Package', 'Month', 'Low Price', 'High Price', 'Date']\n",
    "pumpkins = pumpkins.drop([c for c in pumpkins.columns if c not in new_columns], axis=1)"
   ]
  },
  {
   "cell_type": "code",
   "execution_count": 12,
   "metadata": {},
   "outputs": [],
   "source": [
    "price = (pumpkins['Low Price'] + pumpkins['High Price']) / 2\n",
    "\n",
    "month = pd.DatetimeIndex(pumpkins['Date']).month\n"
   ]
  },
  {
   "cell_type": "code",
   "execution_count": 13,
   "metadata": {},
   "outputs": [],
   "source": [
    "new_pumpkins = pd.DataFrame({'Month': month, 'Package': pumpkins['Package'], 'Low Price': pumpkins['Low Price'],'High Price': pumpkins['High Price'], 'Price': price})"
   ]
  },
  {
   "cell_type": "code",
   "execution_count": 14,
   "metadata": {},
   "outputs": [],
   "source": [
    "import matplotlib.pyplot as plt"
   ]
  },
  {
   "cell_type": "code",
   "execution_count": 15,
   "metadata": {},
   "outputs": [
    {
     "data": {
      "image/png": "[encoded data removed]",
      "text/plain": [
       "<Figure size 640x480 with 1 Axes>"
      ]
     },
     "metadata": {},
     "output_type": "display_data"
    }
   ],
   "source": [
    "price = new_pumpkins.Price\n",
    "month = new_pumpkins.Month\n",
    "plt.scatter(price, month)\n",
    "plt.show()"
   ]
  },
  {
   "cell_type": "code",
   "execution_count": 16,
   "metadata": {},
   "outputs": [
    {
     "data": {
      "text/plain": [
       "Text(0, 0.5, 'Pumpkin Price')"
      ]
     },
     "execution_count": 16,
     "metadata": {},
     "output_type": "execute_result"
    },
    {
     "data": {
      "image/png": "[encoded data removed]",
      "text/plain": [
       "<Figure size 640x480 with 1 Axes>"
      ]
     },
     "metadata": {},
     "output_type": "display_data"
    }
   ],
   "source": [
    "new_pumpkins.groupby(['Month'])['Price'].mean().plot(kind='bar')\n",
    "plt.ylabel(\"Pumpkin Price\")"
   ]
  },
  {
   "cell_type": "code",
   "execution_count": 18,
   "metadata": {},
   "outputs": [],
   "source": [
    "import pandas as pd\n",
    "\n",
    "# Load the dataset\n",
    "pumpkins = pd.read_csv('C:/Users/YAHYA/Documents/US-pumpkins.csv')\n"
   ]
  },
  {
   "cell_type": "code",
   "execution_count": 19,
   "metadata": {},
   "outputs": [
    {
     "name": "stdout",
     "output_type": "stream",
     "text": [
      "   City Name Type       Package      Variety Sub Variety  Grade     Date  \\\n",
      "0  BALTIMORE  NaN  24 inch bins          NaN         NaN    NaN  4/29/17   \n",
      "1  BALTIMORE  NaN  24 inch bins          NaN         NaN    NaN   5/6/17   \n",
      "2  BALTIMORE  NaN  24 inch bins  HOWDEN TYPE         NaN    NaN  9/24/16   \n",
      "3  BALTIMORE  NaN  24 inch bins  HOWDEN TYPE         NaN    NaN  9/24/16   \n",
      "4  BALTIMORE  NaN  24 inch bins  HOWDEN TYPE         NaN    NaN  11/5/16   \n",
      "\n",
      "   Low Price  High Price  Mostly Low  ...  Unit of Sale Quality Condition  \\\n",
      "0      270.0       280.0       270.0  ...           NaN     NaN       NaN   \n",
      "1      270.0       280.0       270.0  ...           NaN     NaN       NaN   \n",
      "2      160.0       160.0       160.0  ...           NaN     NaN       NaN   \n",
      "3      160.0       160.0       160.0  ...           NaN     NaN       NaN   \n",
      "4       90.0       100.0        90.0  ...           NaN     NaN       NaN   \n",
      "\n",
      "  Appearance Storage  Crop Repack  Trans Mode  Unnamed: 24  Unnamed: 25  \n",
      "0        NaN     NaN   NaN      E         NaN          NaN          NaN  \n",
      "1        NaN     NaN   NaN      E         NaN          NaN          NaN  \n",
      "2        NaN     NaN   NaN      N         NaN          NaN          NaN  \n",
      "3        NaN     NaN   NaN      N         NaN          NaN          NaN  \n",
      "4        NaN     NaN   NaN      N         NaN          NaN          NaN  \n",
      "\n",
      "[5 rows x 26 columns]\n",
      "<class 'pandas.core.frame.DataFrame'>\n",
      "RangeIndex: 1757 entries, 0 to 1756\n",
      "Data columns (total 26 columns):\n",
      " #   Column           Non-Null Count  Dtype  \n",
      "---  ------           --------------  -----  \n",
      " 0   City Name        1757 non-null   object \n",
      " 1   Type             45 non-null     object \n",
      " 2   Package          1757 non-null   object \n",
      " 3   Variety          1752 non-null   object \n",
      " 4   Sub Variety      296 non-null    object \n",
      " 5   Grade            0 non-null      float64\n",
      " 6   Date             1757 non-null   object \n",
      " 7   Low Price        1757 non-null   float64\n",
      " 8   High Price       1757 non-null   float64\n",
      " 9   Mostly Low       1654 non-null   float64\n",
      " 10  Mostly High      1654 non-null   float64\n",
      " 11  Origin           1754 non-null   object \n",
      " 12  Origin District  131 non-null    object \n",
      " 13  Item Size        1478 non-null   object \n",
      " 14  Color            1141 non-null   object \n",
      " 15  Environment      0 non-null      float64\n",
      " 16  Unit of Sale     162 non-null    object \n",
      " 17  Quality          0 non-null      float64\n",
      " 18  Condition        0 non-null      float64\n",
      " 19  Appearance       0 non-null      float64\n",
      " 20  Storage          0 non-null      float64\n",
      " 21  Crop             0 non-null      float64\n",
      " 22  Repack           1757 non-null   object \n",
      " 23  Trans Mode       0 non-null      float64\n",
      " 24  Unnamed: 24      0 non-null      float64\n",
      " 25  Unnamed: 25      103 non-null    object \n",
      "dtypes: float64(13), object(13)\n",
      "memory usage: 357.0+ KB\n",
      "None\n"
     ]
    }
   ],
   "source": [
    "# Display the first few rows of the dataset\n",
    "print(pumpkins.head())\n",
    "\n",
    "# Check the data types and missing values\n",
    "print(pumpkins.info())\n"
   ]
  },
  {
   "cell_type": "code",
   "execution_count": 20,
   "metadata": {},
   "outputs": [],
   "source": [
    "# Drop rows with missing values\n",
    "pumpkins.dropna(inplace=True)\n",
    "\n",
    "# Assuming 'Color' is a categorical variable, encode it\n",
    "pumpkins = pd.get_dummies(pumpkins, columns=['Color'], drop_first=True)\n"
   ]
  },
  {
   "cell_type": "code",
   "execution_count": 23,
   "metadata": {},
   "outputs": [
    {
     "name": "stdout",
     "output_type": "stream",
     "text": [
      "   City Name  Type       Package      Variety  Sub Variety  Grade     Date  \\\n",
      "0  BALTIMORE   NaN  24 inch bins          NaN          NaN    NaN  4/29/17   \n",
      "1  BALTIMORE   NaN  24 inch bins          NaN          NaN    NaN   5/6/17   \n",
      "2  BALTIMORE   NaN  24 inch bins  HOWDEN TYPE          NaN    NaN  9/24/16   \n",
      "3  BALTIMORE   NaN  24 inch bins  HOWDEN TYPE          NaN    NaN  9/24/16   \n",
      "4  BALTIMORE   NaN  24 inch bins  HOWDEN TYPE          NaN    NaN  11/5/16   \n",
      "\n",
      "   Low Price  High Price  Mostly Low  \n",
      "0      270.0       280.0       270.0  \n",
      "1      270.0       280.0       270.0  \n",
      "2      160.0       160.0       160.0  \n",
      "3      160.0       160.0       160.0  \n",
      "4       90.0       100.0        90.0  \n"
     ]
    }
   ],
   "source": [
    "import pandas as pd\n",
    "\n",
    "# Data provided in a dictionary format\n",
    "data = {\n",
    "    'City Name': ['BALTIMORE', 'BALTIMORE', 'BALTIMORE', 'BALTIMORE', 'BALTIMORE'],\n",
    "    'Type': [float('nan'), float('nan'), float('nan'), float('nan'), float('nan')],\n",
    "    'Package': ['24 inch bins', '24 inch bins', '24 inch bins', '24 inch bins', '24 inch bins'],\n",
    "    'Variety': [float('nan'), float('nan'), 'HOWDEN TYPE', 'HOWDEN TYPE', 'HOWDEN TYPE'],\n",
    "    'Sub Variety': [float('nan'), float('nan'), float('nan'), float('nan'), float('nan')],\n",
    "    'Grade': [float('nan'), float('nan'), float('nan'), float('nan'), float('nan')],\n",
    "    'Date': ['4/29/17', '5/6/17', '9/24/16', '9/24/16', '11/5/16'],\n",
    "    'Low Price': [270.0, 270.0, 160.0, 160.0, 90.0],\n",
    "    'High Price': [280.0, 280.0, 160.0, 160.0, 100.0],\n",
    "    'Mostly Low': [270.0, 270.0, 160.0, 160.0, 90.0],\n",
    "    # Continue for other columns...\n",
    "}\n",
    "\n",
    "# Create a DataFrame from the dictionary\n",
    "df = pd.DataFrame(data)\n",
    "\n",
    "# Display the first few rows of the DataFrame\n",
    "print(df.head())\n"
   ]
  },
  {
   "cell_type": "code",
   "execution_count": 24,
   "metadata": {},
   "outputs": [
    {
     "name": "stdout",
     "output_type": "stream",
     "text": [
      "<class 'pandas.core.frame.DataFrame'>\n",
      "RangeIndex: 5 entries, 0 to 4\n",
      "Data columns (total 10 columns):\n",
      " #   Column       Non-Null Count  Dtype  \n",
      "---  ------       --------------  -----  \n",
      " 0   City Name    5 non-null      object \n",
      " 1   Type         0 non-null      float64\n",
      " 2   Package      5 non-null      object \n",
      " 3   Variety      3 non-null      object \n",
      " 4   Sub Variety  0 non-null      float64\n",
      " 5   Grade        0 non-null      float64\n",
      " 6   Date         5 non-null      object \n",
      " 7   Low Price    5 non-null      float64\n",
      " 8   High Price   5 non-null      float64\n",
      " 9   Mostly Low   5 non-null      float64\n",
      "dtypes: float64(6), object(4)\n",
      "memory usage: 532.0+ bytes\n",
      "None\n",
      "       Type  Sub Variety  Grade   Low Price  High Price  Mostly Low\n",
      "count   0.0          0.0    0.0    5.000000    5.000000    5.000000\n",
      "mean    NaN          NaN    NaN  190.000000  196.000000  190.000000\n",
      "std     NaN          NaN    NaN   78.421936   80.498447   78.421936\n",
      "min     NaN          NaN    NaN   90.000000  100.000000   90.000000\n",
      "25%     NaN          NaN    NaN  160.000000  160.000000  160.000000\n",
      "50%     NaN          NaN    NaN  160.000000  160.000000  160.000000\n",
      "75%     NaN          NaN    NaN  270.000000  280.000000  270.000000\n",
      "max     NaN          NaN    NaN  270.000000  280.000000  270.000000\n"
     ]
    }
   ],
   "source": [
    "# Check the data types and missing values\n",
    "print(df.info())\n",
    "\n",
    "# Descriptive statistics summary\n",
    "print(df.describe())\n"
   ]
  },
  {
   "cell_type": "code",
   "execution_count": 25,
   "metadata": {},
   "outputs": [
    {
     "name": "stderr",
     "output_type": "stream",
     "text": [
      "C:\\Users\\YAHYA\\AppData\\Local\\Temp\\ipykernel_7112\\3932253537.py:5: UserWarning: Could not infer format, so each element will be parsed individually, falling back to `dateutil`. To ensure parsing is consistent and as-expected, please specify a format.\n",
      "  df['Date'] = pd.to_datetime(df['Date'])\n"
     ]
    },
    {
     "data": {
      "image/png": "[encoded data removed]",
      "text/plain": [
       "<Figure size 1000x600 with 1 Axes>"
      ]
     },
     "metadata": {},
     "output_type": "display_data"
    }
   ],
   "source": [
    "# Example of visualizing price trends over time\n",
    "import matplotlib.pyplot as plt\n",
    "\n",
    "# Convert 'Date' column to datetime format\n",
    "df['Date'] = pd.to_datetime(df['Date'])\n",
    "\n",
    "# Plot price trends over time\n",
    "plt.figure(figsize=(10, 6))\n",
    "plt.plot(df['Date'], df['Low Price'], label='Low Price')\n",
    "plt.plot(df['Date'], df['High Price'], label='High Price')\n",
    "plt.xlabel('Date')\n",
    "plt.ylabel('Price')\n",
    "plt.title('Price Trends Over Time')\n",
    "plt.legend()\n",
    "plt.show()\n"
   ]
  },
  {
   "cell_type": "code",
   "execution_count": null,
   "metadata": {},
   "outputs": [],
   "source": []
  }
 ],
 "metadata": {
  "kernelspec": {
   "display_name": "Python 3",
   "language": "python",
   "name": "python3"
  },
  "language_info": {
   "codemirror_mode": {
    "name": "ipython",
    "version": 3
   },
   "file_extension": ".py",
   "mimetype": "text/x-python",
   "name": "python",
   "nbconvert_exporter": "python",
   "pygments_lexer": "ipython3",
   "version": "3.12.0"
  }
 },
 "nbformat": 4,
 "nbformat_minor": 2
}
